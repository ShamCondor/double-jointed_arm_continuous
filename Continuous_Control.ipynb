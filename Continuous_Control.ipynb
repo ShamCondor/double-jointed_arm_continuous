{
 "cells": [
  {
   "cell_type": "markdown",
   "metadata": {},
   "source": [
    "# Continuous Control\n",
    "\n",
    "---\n",
    "\n",
    "In this notebook, you will learn how to use the Unity ML-Agents environment for the second project of the [Deep Reinforcement Learning Nanodegree](https://www.udacity.com/course/deep-reinforcement-learning-nanodegree--nd893) program.\n",
    "\n",
    "### 1. Start the Environment\n",
    "\n",
    "We begin by importing the necessary packages.  If the code cell below returns an error, please revisit the project instructions to double-check that you have installed [Unity ML-Agents](https://github.com/Unity-Technologies/ml-agents/blob/master/docs/Installation.md) and [NumPy](http://www.numpy.org/)."
   ]
  },
  {
   "cell_type": "code",
   "execution_count": 1,
   "metadata": {},
   "outputs": [],
   "source": [
    "from unityagents import UnityEnvironment\n",
    "import numpy as np"
   ]
  },
  {
   "cell_type": "markdown",
   "metadata": {},
   "source": [
    "Next, we will start the environment!  **_Before running the code cell below_**, change the `file_name` parameter to match the location of the Unity environment that you downloaded.\n",
    "\n",
    "- **Mac**: `\"path/to/Reacher.app\"`\n",
    "- **Windows** (x86): `\"path/to/Reacher_Windows_x86/Reacher.exe\"`\n",
    "- **Windows** (x86_64): `\"path/to/Reacher_Windows_x86_64/Reacher.exe\"`\n",
    "- **Linux** (x86): `\"path/to/Reacher_Linux/Reacher.x86\"`\n",
    "- **Linux** (x86_64): `\"path/to/Reacher_Linux/Reacher.x86_64\"`\n",
    "- **Linux** (x86, headless): `\"path/to/Reacher_Linux_NoVis/Reacher.x86\"`\n",
    "- **Linux** (x86_64, headless): `\"path/to/Reacher_Linux_NoVis/Reacher.x86_64\"`\n",
    "\n",
    "For instance, if you are using a Mac, then you downloaded `Reacher.app`.  If this file is in the same folder as the notebook, then the line below should appear as follows:\n",
    "```\n",
    "env = UnityEnvironment(file_name=\"Reacher.app\")\n",
    "```"
   ]
  },
  {
   "cell_type": "code",
   "execution_count": 2,
   "metadata": {},
   "outputs": [
    {
     "name": "stderr",
     "output_type": "stream",
     "text": [
      "INFO:unityagents:\n",
      "'Academy' started successfully!\n",
      "Unity Academy name: Academy\n",
      "        Number of Brains: 1\n",
      "        Number of External Brains : 1\n",
      "        Lesson number : 0\n",
      "        Reset Parameters :\n",
      "\t\tgoal_speed -> 1.0\n",
      "\t\tgoal_size -> 5.0\n",
      "Unity brain name: ReacherBrain\n",
      "        Number of Visual Observations (per agent): 0\n",
      "        Vector Observation space type: continuous\n",
      "        Vector Observation space size (per agent): 33\n",
      "        Number of stacked Vector Observation: 1\n",
      "        Vector Action space type: continuous\n",
      "        Vector Action space size (per agent): 4\n",
      "        Vector Action descriptions: , , , \n"
     ]
    }
   ],
   "source": [
    "env = UnityEnvironment(file_name='/home/sfy/deep-reinforcement-learning/p2_continuous-control/Reacher_Linux/Reacher.x86_64')"
   ]
  },
  {
   "cell_type": "markdown",
   "metadata": {},
   "source": [
    "Environments contain **_brains_** which are responsible for deciding the actions of their associated agents. Here we check for the first brain available, and set it as the default brain we will be controlling from Python."
   ]
  },
  {
   "cell_type": "code",
   "execution_count": 3,
   "metadata": {},
   "outputs": [],
   "source": [
    "# get the default brain\n",
    "brain_name = env.brain_names[0]\n",
    "brain = env.brains[brain_name]"
   ]
  },
  {
   "cell_type": "markdown",
   "metadata": {},
   "source": [
    "### 2. Examine the State and Action Spaces\n",
    "\n",
    "In this environment, a double-jointed arm can move to target locations. A reward of `+0.1` is provided for each step that the agent's hand is in the goal location. Thus, the goal of your agent is to maintain its position at the target location for as many time steps as possible.\n",
    "\n",
    "The observation space consists of `33` variables corresponding to position, rotation, velocity, and angular velocities of the arm.  Each action is a vector with four numbers, corresponding to torque applicable to two joints.  Every entry in the action vector must be a number between `-1` and `1`.\n",
    "\n",
    "Run the code cell below to print some information about the environment."
   ]
  },
  {
   "cell_type": "code",
   "execution_count": 4,
   "metadata": {},
   "outputs": [
    {
     "name": "stdout",
     "output_type": "stream",
     "text": [
      "Number of agents: 20\n",
      "Size of each action: 4\n",
      "There are 20 agents. Each observes a state with length: 33\n",
      "The state for the first agent looks like: [ 0.00000000e+00 -4.00000000e+00  0.00000000e+00  1.00000000e+00\n",
      " -0.00000000e+00 -0.00000000e+00 -4.37113883e-08  0.00000000e+00\n",
      "  0.00000000e+00  0.00000000e+00  0.00000000e+00  0.00000000e+00\n",
      "  0.00000000e+00  0.00000000e+00 -1.00000000e+01  0.00000000e+00\n",
      "  1.00000000e+00 -0.00000000e+00 -0.00000000e+00 -4.37113883e-08\n",
      "  0.00000000e+00  0.00000000e+00  0.00000000e+00  0.00000000e+00\n",
      "  0.00000000e+00  0.00000000e+00  5.75471878e+00 -1.00000000e+00\n",
      "  5.55726624e+00  0.00000000e+00  1.00000000e+00  0.00000000e+00\n",
      " -1.68164849e-01]\n"
     ]
    }
   ],
   "source": [
    "# reset the environment\n",
    "env_info = env.reset(train_mode=True)[brain_name]\n",
    "\n",
    "# number of agents\n",
    "num_agents = len(env_info.agents)\n",
    "print('Number of agents:', num_agents)\n",
    "\n",
    "# size of each action\n",
    "action_size = brain.vector_action_space_size\n",
    "print('Size of each action:', action_size)\n",
    "\n",
    "# examine the state space \n",
    "states = env_info.vector_observations\n",
    "state_size = states.shape[1]\n",
    "print('There are {} agents. Each observes a state with length: {}'.format(states.shape[0], state_size))\n",
    "print('The state for the first agent looks like:', states[0])"
   ]
  },
  {
   "cell_type": "markdown",
   "metadata": {},
   "source": [
    "### 3. Take Random Actions in the Environment\n",
    "\n",
    "In the next code cell, you will learn how to use the Python API to control the agent and receive feedback from the environment.\n",
    "\n",
    "Once this cell is executed, you will watch the agent's performance, if it selects an action at random with each time step.  A window should pop up that allows you to observe the agent, as it moves through the environment.  \n",
    "\n",
    "Of course, as part of the project, you'll have to change the code so that the agent is able to use its experience to gradually choose better actions when interacting with the environment!"
   ]
  },
  {
   "cell_type": "code",
   "execution_count": 5,
   "metadata": {},
   "outputs": [],
   "source": [
    "#env_info = env.reset(train_mode=False)[brain_name]     # reset the environment    \n",
    "#states = env_info.vector_observations                  # get the current state (for each agent)\n",
    "#scores = np.zeros(num_agents)                          # initialize the score (for each agent)\n",
    "#while True:\n",
    "#    actions = np.random.randn(num_agents, action_size) # select an action (for each agent)\n",
    "#    actions = np.clip(actions, -1, 1)                  # all actions between -1 and 1\n",
    "#    env_info = env.step(actions)[brain_name]           # send all actions to tne environment\n",
    "#    next_states = env_info.vector_observations         # get next state (for each agent)\n",
    "#    rewards = env_info.rewards                         # get reward (for each agent)\n",
    "#    dones = env_info.local_done                        # see if episode finished\n",
    "#    scores += env_info.rewards                         # update the score (for each agent)\n",
    "#    states = next_states                               # roll over states to next time step\n",
    "#    if np.any(dones):                                  # exit loop if episode finished\n",
    "#        break\n",
    "#print('Total score (averaged over agents) this episode: {}'.format(np.mean(scores)))"
   ]
  },
  {
   "cell_type": "markdown",
   "metadata": {},
   "source": [
    "When finished, you can close the environment."
   ]
  },
  {
   "cell_type": "code",
   "execution_count": 6,
   "metadata": {},
   "outputs": [],
   "source": [
    "#env.close()"
   ]
  },
  {
   "cell_type": "markdown",
   "metadata": {},
   "source": [
    "### 4. It's Your Turn!\n",
    "\n",
    "Now it's your turn to train your own agent to solve the environment!  When training the environment, set `train_mode=True`, so that the line for resetting the environment looks like the following:\n",
    "```python\n",
    "env_info = env.reset(train_mode=True)[brain_name]\n",
    "```"
   ]
  },
  {
   "cell_type": "code",
   "execution_count": 7,
   "metadata": {},
   "outputs": [],
   "source": [
    "from collections import deque\n",
    "from itertools import count\n",
    "import time\n",
    "import torch\n",
    "from ddpg_agent import Agent\n",
    "import matplotlib.pyplot as plt\n",
    "%matplotlib inline\n",
    "\n",
    "agent = Agent(state_size=state_size, action_size=action_size, random_seed=1234)"
   ]
  },
  {
   "cell_type": "code",
   "execution_count": 8,
   "metadata": {},
   "outputs": [
    {
     "name": "stdout",
     "output_type": "stream",
     "text": [
      "Episode 1, Average Score: 0.56, Max: 1.45, Min: 0.00, Time: 25.54\n",
      "Episode 2, Average Score: 0.64, Max: 1.25, Min: 0.00, Time: 27.86\n",
      "Episode 3, Average Score: 0.72, Max: 2.53, Min: 0.35, Time: 27.68\n",
      "Episode 4, Average Score: 0.77, Max: 1.79, Min: 0.19, Time: 28.82\n",
      "Episode 5, Average Score: 0.78, Max: 1.46, Min: 0.06, Time: 28.81\n",
      "Episode 6, Average Score: 0.80, Max: 1.63, Min: 0.00, Time: 28.89\n",
      "Episode 7, Average Score: 0.85, Max: 2.44, Min: 0.14, Time: 28.95\n",
      "Episode 8, Average Score: 0.97, Max: 3.39, Min: 0.66, Time: 29.17\n",
      "Episode 9, Average Score: 1.09, Max: 3.52, Min: 1.04, Time: 29.11\n",
      "Episode 10, Average Score: 1.20, Max: 4.03, Min: 1.14, Time: 29.49\n",
      "Episode 10\tAverage Score: 1.20\n",
      "Episode 11, Average Score: 1.29, Max: 3.96, Min: 0.80, Time: 29.10\n",
      "Episode 12, Average Score: 1.34, Max: 4.23, Min: 0.09, Time: 27.98\n",
      "Episode 13, Average Score: 1.37, Max: 3.26, Min: 0.20, Time: 28.82\n",
      "Episode 14, Average Score: 1.43, Max: 4.65, Min: 0.90, Time: 28.76\n",
      "Episode 15, Average Score: 1.47, Max: 4.05, Min: 0.66, Time: 28.58\n",
      "Episode 16, Average Score: 1.51, Max: 3.39, Min: 0.58, Time: 29.18\n",
      "Episode 17, Average Score: 1.57, Max: 4.48, Min: 0.98, Time: 28.27\n",
      "Episode 18, Average Score: 1.61, Max: 4.14, Min: 0.42, Time: 27.85\n",
      "Episode 19, Average Score: 1.66, Max: 5.44, Min: 0.51, Time: 27.49\n",
      "Episode 20, Average Score: 1.73, Max: 6.93, Min: 1.29, Time: 28.88\n",
      "Episode 20\tAverage Score: 1.73\n",
      "Episode 21, Average Score: 1.79, Max: 5.79, Min: 1.12, Time: 28.55\n",
      "Episode 22, Average Score: 1.81, Max: 3.77, Min: 0.64, Time: 30.15\n",
      "Episode 23, Average Score: 1.85, Max: 5.14, Min: 0.74, Time: 28.92\n",
      "Episode 24, Average Score: 1.91, Max: 5.39, Min: 1.31, Time: 28.79\n",
      "Episode 25, Average Score: 1.97, Max: 5.40, Min: 1.37, Time: 28.67\n",
      "Episode 26, Average Score: 2.03, Max: 5.58, Min: 2.14, Time: 28.48\n",
      "Episode 27, Average Score: 2.11, Max: 9.50, Min: 1.70, Time: 28.43\n",
      "Episode 28, Average Score: 2.21, Max: 9.61, Min: 1.11, Time: 28.92\n",
      "Episode 29, Average Score: 2.37, Max: 14.26, Min: 3.04, Time: 28.68\n",
      "Episode 30, Average Score: 2.47, Max: 9.44, Min: 2.02, Time: 28.99\n",
      "Episode 30\tAverage Score: 2.47\n",
      "Episode 31, Average Score: 2.66, Max: 12.79, Min: 2.10, Time: 28.66\n",
      "Episode 32, Average Score: 2.84, Max: 12.82, Min: 3.77, Time: 28.76\n",
      "Episode 33, Average Score: 3.02, Max: 11.90, Min: 6.44, Time: 28.86\n",
      "Episode 34, Average Score: 3.26, Max: 16.70, Min: 6.88, Time: 28.99\n",
      "Episode 35, Average Score: 3.57, Max: 19.01, Min: 7.82, Time: 28.64\n",
      "Episode 36, Average Score: 3.87, Max: 20.91, Min: 8.54, Time: 28.80\n",
      "Episode 37, Average Score: 4.18, Max: 20.36, Min: 7.44, Time: 28.65\n",
      "Episode 38, Average Score: 4.52, Max: 22.40, Min: 11.39, Time: 29.20\n",
      "Episode 39, Average Score: 5.01, Max: 33.80, Min: 14.58, Time: 28.93\n",
      "Episode 40, Average Score: 5.54, Max: 30.96, Min: 19.89, Time: 29.30\n",
      "Episode 40\tAverage Score: 5.54\n",
      "Episode 41, Average Score: 6.14, Max: 36.46, Min: 18.39, Time: 28.23\n",
      "Episode 42, Average Score: 6.85, Max: 39.44, Min: 30.23, Time: 28.49\n",
      "Episode 43, Average Score: 7.55, Max: 39.67, Min: 25.67, Time: 28.01\n",
      "Episode 44, Average Score: 8.22, Max: 39.60, Min: 26.22, Time: 28.78\n",
      "Episode 45, Average Score: 8.84, Max: 39.69, Min: 27.93, Time: 28.00\n",
      "Episode 46, Average Score: 9.48, Max: 39.55, Min: 29.85, Time: 28.93\n",
      "Episode 47, Average Score: 10.09, Max: 39.69, Min: 34.95, Time: 28.28\n",
      "Episode 48, Average Score: 10.67, Max: 39.64, Min: 32.03, Time: 28.29\n",
      "Episode 49, Average Score: 11.23, Max: 39.63, Min: 31.22, Time: 27.81\n",
      "Episode 50, Average Score: 11.79, Max: 39.63, Min: 36.97, Time: 28.51\n",
      "Episode 50\tAverage Score: 11.79\n",
      "Episode 51, Average Score: 12.29, Max: 39.43, Min: 35.22, Time: 28.43\n",
      "Episode 52, Average Score: 12.79, Max: 39.43, Min: 35.85, Time: 29.47\n",
      "Episode 53, Average Score: 13.23, Max: 39.29, Min: 31.14, Time: 29.54\n",
      "Episode 54, Average Score: 13.65, Max: 39.24, Min: 26.94, Time: 29.56\n",
      "Episode 55, Average Score: 14.07, Max: 39.63, Min: 30.41, Time: 28.62\n",
      "Episode 56, Average Score: 14.48, Max: 39.65, Min: 29.31, Time: 28.38\n",
      "Episode 57, Average Score: 14.85, Max: 39.58, Min: 30.72, Time: 29.04\n",
      "Episode 58, Average Score: 15.21, Max: 39.34, Min: 26.43, Time: 29.48\n",
      "Episode 59, Average Score: 15.58, Max: 39.03, Min: 31.00, Time: 28.11\n",
      "Episode 60, Average Score: 15.84, Max: 38.14, Min: 16.18, Time: 28.75\n",
      "Episode 60\tAverage Score: 15.84\n",
      "Episode 61, Average Score: 16.15, Max: 39.70, Min: 13.89, Time: 29.47\n",
      "Episode 62, Average Score: 16.44, Max: 38.69, Min: 23.57, Time: 29.88\n",
      "Episode 63, Average Score: 16.71, Max: 38.17, Min: 25.99, Time: 30.11\n",
      "Episode 64, Average Score: 16.96, Max: 38.19, Min: 26.27, Time: 28.84\n",
      "Episode 65, Average Score: 17.20, Max: 37.52, Min: 21.82, Time: 29.89\n",
      "Episode 66, Average Score: 17.43, Max: 39.30, Min: 24.78, Time: 28.58\n",
      "Episode 67, Average Score: 17.66, Max: 39.24, Min: 26.53, Time: 28.98\n",
      "Episode 68, Average Score: 17.94, Max: 39.39, Min: 29.32, Time: 29.69\n",
      "Episode 69, Average Score: 18.19, Max: 39.16, Min: 33.88, Time: 29.61\n",
      "Episode 70, Average Score: 18.43, Max: 39.53, Min: 22.85, Time: 29.08\n",
      "Episode 70\tAverage Score: 18.43\n",
      "Episode 71, Average Score: 18.67, Max: 38.41, Min: 30.26, Time: 29.74\n",
      "Episode 72, Average Score: 18.92, Max: 39.61, Min: 32.36, Time: 29.77\n",
      "Episode 73, Average Score: 19.15, Max: 39.49, Min: 28.10, Time: 29.74\n",
      "Episode 74, Average Score: 19.37, Max: 39.37, Min: 24.22, Time: 28.64\n",
      "Episode 75, Average Score: 19.61, Max: 39.66, Min: 34.26, Time: 28.43\n",
      "Episode 76, Average Score: 19.85, Max: 39.29, Min: 34.18, Time: 29.91\n",
      "Episode 77, Average Score: 20.06, Max: 39.46, Min: 29.05, Time: 28.05\n",
      "Episode 78, Average Score: 20.28, Max: 39.66, Min: 34.47, Time: 28.66\n",
      "Episode 79, Average Score: 20.48, Max: 39.62, Min: 12.08, Time: 28.92\n",
      "Episode 80, Average Score: 20.69, Max: 39.65, Min: 22.93, Time: 29.01\n",
      "Episode 80\tAverage Score: 20.69\n",
      "Episode 81, Average Score: 20.90, Max: 39.60, Min: 33.97, Time: 28.97\n",
      "Episode 82, Average Score: 21.08, Max: 39.47, Min: 23.31, Time: 29.38\n",
      "Episode 83, Average Score: 21.27, Max: 39.60, Min: 31.99, Time: 29.15\n",
      "Episode 84, Average Score: 21.45, Max: 39.56, Min: 30.92, Time: 29.28\n",
      "Episode 85, Average Score: 21.56, Max: 35.87, Min: 19.34, Time: 29.62\n",
      "Episode 86, Average Score: 21.69, Max: 36.42, Min: 28.80, Time: 29.69\n",
      "Episode 87, Average Score: 21.81, Max: 36.47, Min: 24.49, Time: 29.33\n",
      "Episode 88, Average Score: 21.94, Max: 39.25, Min: 17.47, Time: 29.38\n",
      "Episode 89, Average Score: 22.08, Max: 37.96, Min: 25.54, Time: 28.07\n",
      "Episode 90, Average Score: 22.20, Max: 39.39, Min: 27.11, Time: 28.52\n",
      "Episode 90\tAverage Score: 22.20\n",
      "Episode 91, Average Score: 22.34, Max: 37.98, Min: 26.15, Time: 29.26\n",
      "Episode 92, Average Score: 22.51, Max: 39.54, Min: 36.04, Time: 29.92\n",
      "Episode 93, Average Score: 22.68, Max: 39.54, Min: 35.25, Time: 29.92\n",
      "Episode 94, Average Score: 22.84, Max: 39.56, Min: 33.94, Time: 29.60\n",
      "Episode 95, Average Score: 22.98, Max: 39.59, Min: 33.74, Time: 29.58\n",
      "Episode 96, Average Score: 23.11, Max: 39.48, Min: 27.48, Time: 29.77\n",
      "Episode 97, Average Score: 23.21, Max: 39.65, Min: 19.59, Time: 29.02\n",
      "Episode 98, Average Score: 23.30, Max: 37.09, Min: 25.01, Time: 29.91\n",
      "Episode 99, Average Score: 23.41, Max: 37.58, Min: 25.11, Time: 29.93\n",
      "Episode 100, Average Score: 23.50, Max: 39.54, Min: 15.15, Time: 29.33\n",
      "Episode 100\tAverage Score: 23.50\n",
      "Episode 101, Average Score: 23.85, Max: 38.68, Min: 31.08, Time: 29.38\n",
      "Episode 102, Average Score: 24.21, Max: 39.50, Min: 32.16, Time: 28.93\n",
      "Episode 103, Average Score: 24.56, Max: 39.22, Min: 18.19, Time: 29.47\n",
      "Episode 104, Average Score: 24.90, Max: 38.96, Min: 23.12, Time: 29.47\n",
      "Episode 105, Average Score: 25.22, Max: 37.81, Min: 13.21, Time: 29.13\n",
      "Episode 106, Average Score: 25.55, Max: 39.23, Min: 28.42, Time: 29.56\n",
      "Episode 107, Average Score: 25.84, Max: 35.00, Min: 24.95, Time: 29.19\n",
      "Episode 108, Average Score: 26.12, Max: 37.80, Min: 22.47, Time: 28.78\n",
      "Episode 109, Average Score: 26.44, Max: 37.72, Min: 31.60, Time: 29.56\n",
      "Episode 110, Average Score: 26.70, Max: 37.75, Min: 13.47, Time: 26.75\n",
      "Episode 110\tAverage Score: 26.70\n",
      "Episode 111, Average Score: 27.00, Max: 39.45, Min: 23.56, Time: 30.03\n",
      "Episode 112, Average Score: 27.33, Max: 39.08, Min: 29.01, Time: 29.87\n",
      "Episode 113, Average Score: 27.67, Max: 39.40, Min: 28.39, Time: 29.22\n",
      "Episode 114, Average Score: 27.97, Max: 39.31, Min: 27.95, Time: 29.46\n"
     ]
    },
    {
     "name": "stdout",
     "output_type": "stream",
     "text": [
      "Episode 115, Average Score: 28.26, Max: 35.83, Min: 17.19, Time: 29.23\n",
      "Episode 116, Average Score: 28.56, Max: 39.59, Min: 19.28, Time: 28.82\n",
      "Episode 117, Average Score: 28.87, Max: 38.48, Min: 30.71, Time: 29.94\n",
      "Episode 118, Average Score: 29.14, Max: 35.61, Min: 10.14, Time: 29.16\n",
      "Episode 119, Average Score: 29.38, Max: 34.18, Min: 9.39, Time: 28.59\n",
      "Episode 120, Average Score: 29.66, Max: 37.75, Min: 25.90, Time: 29.13\n",
      "Episode 120\tAverage Score: 29.66\n",
      "Episode 121, Average Score: 29.95, Max: 37.80, Min: 25.66, Time: 29.24\n",
      "Episode 122, Average Score: 30.23, Max: 35.38, Min: 23.25, Time: 29.76\n",
      "\n",
      "Environment solved in 122 episodes!\tAverage Score: 30.23\n"
     ]
    },
    {
     "data": {
      "image/png": "[encoded data removed]",
      "text/plain": [
       "<Figure size 432x288 with 1 Axes>"
      ]
     },
     "metadata": {
      "needs_background": "light"
     },
     "output_type": "display_data"
    }
   ],
   "source": [
    "def ddpg(n_episodes=1500):\n",
    "    scores_deque = deque(maxlen=100)\n",
    "    scores_global = []\n",
    "        \n",
    "    for i_episode in range(1, n_episodes+1):\n",
    "        env_info = env.reset(train_mode=True)[brain_name]      # reset the environment    \n",
    "        states = env_info.vector_observations                  # get the current state (for each agent)\n",
    "        scores = np.zeros(num_agents)                          # initialize the score (for each agent)\n",
    "        agent.reset()\n",
    "        \n",
    "        score_average = 0\n",
    "        timestep = time.time()\n",
    "        for t in count():\n",
    "            actions = agent.act(states)\n",
    "            env_info = env.step(actions)[brain_name]           # send all actions to tne environment\n",
    "            next_states = env_info.vector_observations         # get next state (for each agent)\n",
    "            rewards = env_info.rewards                         # get reward (for each agent)\n",
    "            dones = env_info.local_done                        # see if episode finished\n",
    "            agent.step(states, actions, rewards, next_states, dones)\n",
    "            states = next_states                               # roll over states to next time step\n",
    "            scores += rewards                                  # update the score (for each agent)            \n",
    "            if np.any(dones):                                  # exit loop if episode finished\n",
    "                break\n",
    "        \n",
    "        score = np.mean(scores)\n",
    "        scores_deque.append(score)\n",
    "        score_average = np.mean(scores_deque)\n",
    "        scores_global.append(score)\n",
    "        \n",
    "        print('\\rEpisode {}, Average Score: {:.2f}, Max: {:.2f}, Min: {:.2f}, Time: {:.2f}'\\\n",
    "              .format(i_episode, score_average, np.max(scores), np.min(scores), time.time() - timestep), end=\"\\n\")        \n",
    "        \n",
    "        if i_episode % 10 == 0:\n",
    "            torch.save(agent.actor_local.state_dict(), 'checkpoint_actor.pth')\n",
    "            torch.save(agent.critic_local.state_dict(), 'checkpoint_critic.pth')\n",
    "            print('\\rEpisode {}\\tAverage Score: {:.2f}'.format(i_episode, np.mean(scores_deque)))   \n",
    "            \n",
    "        if score_average >= 30.0:\n",
    "            print('\\nEnvironment solved in {:d} episodes!\\tAverage Score: {:.2f}'.format(i_episode, score_average))            \n",
    "            break            \n",
    "            \n",
    "    return scores_global\n",
    "\n",
    "scores = ddpg()\n",
    "\n",
    "fig = plt.figure()\n",
    "ax = fig.add_subplot(111)\n",
    "plt.plot(np.arange(1, len(scores)+1), scores)\n",
    "plt.ylabel('Score')\n",
    "plt.xlabel('Episode #')\n",
    "plt.show()"
   ]
  },
  {
   "cell_type": "code",
   "execution_count": 9,
   "metadata": {},
   "outputs": [
    {
     "name": "stdout",
     "output_type": "stream",
     "text": [
      "Total score (averaged over agents) this episode: 24.64849944906309\n"
     ]
    }
   ],
   "source": [
    "agent.actor_local.load_state_dict(torch.load('checkpoint_actor.pth'))\n",
    "agent.critic_local.load_state_dict(torch.load('checkpoint_critic.pth'))\n",
    "\n",
    "env_info = env.reset(train_mode=False)[brain_name]     # reset the environment    \n",
    "states = env_info.vector_observations                  # get the current state (for each agent)\n",
    "scores = np.zeros(num_agents)                          # initialize the score (for each agent)\n",
    "while True:\n",
    "    actions = agent.act(states)                        # select an action (for each agent)\n",
    "    env_info = env.step(actions)[brain_name]           # send all actions to tne environment\n",
    "    next_states = env_info.vector_observations         # get next state (for each agent)\n",
    "    rewards = env_info.rewards                         # get reward (for each agent)\n",
    "    dones = env_info.local_done                        # see if episode finished\n",
    "    scores += env_info.rewards                         # update the score (for each agent)\n",
    "    states = next_states                               # roll over states to next time step\n",
    "    if np.any(dones):                                  # exit loop if episode finished\n",
    "        break\n",
    "print('Total score (averaged over agents) this episode: {}'.format(np.mean(scores)))"
   ]
  },
  {
   "cell_type": "code",
   "execution_count": 10,
   "metadata": {},
   "outputs": [],
   "source": [
    "env.close()"
   ]
  },
  {
   "cell_type": "code",
   "execution_count": null,
   "metadata": {},
   "outputs": [],
   "source": []
  }
 ],
 "metadata": {
  "kernelspec": {
   "display_name": "Python 3",
   "language": "python",
   "name": "python3"
  },
  "language_info": {
   "codemirror_mode": {
    "name": "ipython",
    "version": 3
   },
   "file_extension": ".py",
   "mimetype": "text/x-python",
   "name": "python",
   "nbconvert_exporter": "python",
   "pygments_lexer": "ipython3",
   "version": "3.6.8"
  }
 },
 "nbformat": 4,
 "nbformat_minor": 2
}
